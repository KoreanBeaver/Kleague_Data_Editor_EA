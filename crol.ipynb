{
 "cells": [
  {
   "cell_type": "code",
   "execution_count": 1,
   "metadata": {},
   "outputs": [
    {
     "name": "stdout",
     "output_type": "stream",
     "text": [
      "Requirement already satisfied: beautifulsoup4 in c:\\python312\\lib\\site-packages (4.13.3)\n",
      "Requirement already satisfied: requests in c:\\python312\\lib\\site-packages (2.32.3)\n",
      "Requirement already satisfied: selenium in c:\\python312\\lib\\site-packages (4.31.0)\n",
      "Requirement already satisfied: lxml in c:\\python312\\lib\\site-packages (5.4.0)\n",
      "Requirement already satisfied: openpyxl in c:\\python312\\lib\\site-packages (3.1.5)\n",
      "Requirement already satisfied: soupsieve>1.2 in c:\\python312\\lib\\site-packages (from beautifulsoup4) (2.6)\n",
      "Requirement already satisfied: typing-extensions>=4.0.0 in c:\\python312\\lib\\site-packages (from beautifulsoup4) (4.13.0)\n",
      "Requirement already satisfied: charset-normalizer<4,>=2 in c:\\python312\\lib\\site-packages (from requests) (3.4.1)\n",
      "Requirement already satisfied: idna<4,>=2.5 in c:\\python312\\lib\\site-packages (from requests) (3.10)\n",
      "Requirement already satisfied: urllib3<3,>=1.21.1 in c:\\python312\\lib\\site-packages (from requests) (2.3.0)\n",
      "Requirement already satisfied: certifi>=2017.4.17 in c:\\python312\\lib\\site-packages (from requests) (2025.1.31)\n",
      "Requirement already satisfied: trio~=0.17 in c:\\python312\\lib\\site-packages (from selenium) (0.30.0)\n",
      "Requirement already satisfied: trio-websocket~=0.9 in c:\\python312\\lib\\site-packages (from selenium) (0.12.2)\n",
      "Requirement already satisfied: websocket-client~=1.8 in c:\\python312\\lib\\site-packages (from selenium) (1.8.0)\n",
      "Requirement already satisfied: et-xmlfile in c:\\python312\\lib\\site-packages (from openpyxl) (2.0.0)\n",
      "Requirement already satisfied: attrs>=23.2.0 in c:\\python312\\lib\\site-packages (from trio~=0.17->selenium) (25.3.0)\n",
      "Requirement already satisfied: sortedcontainers in c:\\python312\\lib\\site-packages (from trio~=0.17->selenium) (2.4.0)\n",
      "Requirement already satisfied: outcome in c:\\python312\\lib\\site-packages (from trio~=0.17->selenium) (1.3.0.post0)\n",
      "Requirement already satisfied: sniffio>=1.3.0 in c:\\python312\\lib\\site-packages (from trio~=0.17->selenium) (1.3.1)\n",
      "Requirement already satisfied: cffi>=1.14 in c:\\python312\\lib\\site-packages (from trio~=0.17->selenium) (1.17.1)\n",
      "Requirement already satisfied: wsproto>=0.14 in c:\\python312\\lib\\site-packages (from trio-websocket~=0.9->selenium) (1.2.0)\n",
      "Requirement already satisfied: pysocks!=1.5.7,<2.0,>=1.5.6 in c:\\python312\\lib\\site-packages (from urllib3[socks]<3,>=1.26->selenium) (1.7.1)\n",
      "Requirement already satisfied: pycparser in c:\\python312\\lib\\site-packages (from cffi>=1.14->trio~=0.17->selenium) (2.22)\n",
      "Requirement already satisfied: h11<1,>=0.9.0 in c:\\python312\\lib\\site-packages (from wsproto>=0.14->trio-websocket~=0.9->selenium) (0.14.0)\n",
      "Note: you may need to restart the kernel to use updated packages.\n"
     ]
    },
    {
     "name": "stderr",
     "output_type": "stream",
     "text": [
      "\n",
      "[notice] A new release of pip is available: 25.0.1 -> 25.1\n",
      "[notice] To update, run: python.exe -m pip install --upgrade pip\n"
     ]
    }
   ],
   "source": [
    "%pip install beautifulsoup4 requests selenium lxml openpyxl\n"
   ]
  },
  {
   "cell_type": "code",
   "execution_count": 2,
   "metadata": {},
   "outputs": [],
   "source": [
    "from selenium import webdriver\n",
    "from selenium.webdriver.chrome.options import Options\n",
    "from bs4 import BeautifulSoup\n",
    "import pandas as pd\n",
    "\n",
    "options = Options()\n",
    "options.page_load_strategy = 'eager'\n",
    "driver = webdriver.Chrome(options=options)\n",
    "\n",
    "# 웹사이트에 접속합니다.\n",
    "driver.get('https://data.kleague.com')\n",
    "\n",
    "# Find frameset element and get its children\n",
    "frames = driver.find_elements(\"tag name\", 'frame')\n",
    "\n",
    "for frame in frames:\n",
    "    if 'https://portal.kleague.com' in frame.get_attribute('src'):\n",
    "        # redirect the browser to the frame url\n",
    "        driver.get(frame.get_attribute('src'))\n",
    "    else:\n",
    "        # do nothing\n",
    "        pass"
   ]
  },
  {
   "cell_type": "code",
   "execution_count": 3,
   "metadata": {},
   "outputs": [],
   "source": [
    "import re\n",
    "\n",
    "def extract_onclick_data(onclick):\n",
    "    if \"moveMainFrameMcPlayer\" in onclick:\n",
    "        match = re.search(r\"moveMainFrameMcPlayer\\('(.+?)','(.+?)','(.+?)'\\)\", onclick)\n",
    "        if match:\n",
    "            return dict(zip(['menuCd', 'playerId', 'teamId'], match.groups()))\n",
    "    elif \"moveMainFrame\" in onclick:\n",
    "        match = re.search(r\"moveMainFrame\\('(.+?)'\\)\", onclick)\n",
    "        if match:\n",
    "            return {'menuCd': match.group(1)}\n",
    "    return {}"
   ]
  },
  {
   "cell_type": "code",
   "execution_count": 4,
   "metadata": {},
   "outputs": [],
   "source": [
    "\n",
    "# JavaScript를 실행하여 페이지를 이동합니다.\n",
    "# driver.execute_script(\"moveMainFrame('0011')\")\n",
    "driver.execute_script(\"moveMainFrame('0415')\")"
   ]
  },
  {
   "cell_type": "code",
   "execution_count": 5,
   "metadata": {},
   "outputs": [
    {
     "name": "stdout",
     "output_type": "stream",
     "text": [
      "       소속 클럽   등번   성명      키   몸무게        생년월일 menuCd  playerId teamId\n",
      "0        NaN  NaN  NaN    NaN   NaN         NaN    NaN       NaN    NaN\n",
      "1       강원FC   41  김유성  187Cm  72Kg  2005/11/16   0416  20240099    K21\n",
      "2       강원FC   21  박청효  190Cm  78Kg  1990/02/13   0416  20130134    K21\n",
      "3       강원FC    1  이광연  184Cm  85Kg  1999/09/11   0416  20190058    K21\n",
      "4       강원FC   71  조민규  193Cm  87Kg  2003/04/30   0416  20230068    K21\n",
      "..       ...  ...  ...    ...   ...         ...    ...       ...    ...\n",
      "99   포항 스틸러스   21  황인재  187Cm  73Kg  1994/04/22   0416  20160079    K03\n",
      "100     화성FC   21  강성국  185Cm  76Kg  2005/03/11   0416  20250173    K39\n",
      "101     화성FC   18  김기훈  186Cm  84Kg  2002/11/14   0416  20250172    K39\n",
      "102     화성FC    1  김승건  189Cm  82Kg  1999/02/08   0416  20250166    K39\n",
      "103     화성FC   13  이기현  192Cm  84Kg  1993/12/16   0416  20150056    K39\n",
      "\n",
      "[104 rows x 9 columns]\n",
      "    소속 클럽   등번   성명      키   몸무게        생년월일 menuCd  playerId teamId\n",
      "0     NaN  NaN  NaN    NaN   NaN         NaN    NaN       NaN    NaN\n",
      "1    강원FC   99  강준혁  177Cm  70Kg  1999/10/20   0416  20230270    K21\n",
      "2    강원FC   23  강투지  190Cm  83Kg  1998/12/04   0416  20230308    K21\n",
      "3    강원FC   38  박수환  183Cm  78Kg  2006/04/27   0416  20250074    K21\n",
      "4    강원FC   24  박호영  198Cm  90Kg  1999/04/07   0416  20180157    K21\n",
      "..    ...  ...  ...    ...   ...         ...    ...       ...    ...\n",
      "329  화성FC   17  임창석  174Cm  69Kg  1999/12/07   0416  20250171    K39\n",
      "330  화성FC    3  조동재  180Cm  74Kg  2003/05/16   0416  20220118    K39\n",
      "331  화성FC   33  조영진  174Cm  69Kg  1996/05/09   0416  20250178    K39\n",
      "332  화성FC   66  차오연  186Cm  82Kg  1998/04/15   0416  20200023    K39\n",
      "333  화성FC   44  함선우  190Cm  84Kg  2005/01/28   0416  20240216    K39\n",
      "\n",
      "[334 rows x 9 columns]\n",
      "    소속 클럽   등번   성명      키   몸무게        생년월일 menuCd  playerId teamId\n",
      "0     NaN  NaN  NaN    NaN   NaN         NaN    NaN       NaN    NaN\n",
      "1    강원FC    8  강윤구  177Cm  73Kg  2002/04/08   0416  20210192    K21\n",
      "2    강원FC   70  구본철  173Cm  73Kg  1999/10/11   0416  20200138    K21\n",
      "3    강원FC   18  김강국  181Cm  70Kg  1997/01/07   0416  20190144    K21\n",
      "4    강원FC   14  김대우  179Cm  80Kg  2000/12/02   0416  20210115    K21\n",
      "..    ...  ...  ...    ...   ...         ...    ...       ...    ...\n",
      "258  화성FC   14  이은재  177Cm  71Kg  2003/03/13   0416  20220095    K39\n",
      "259  화성FC    8  전성진  180Cm  69Kg  2003/03/21   0416  20250169    K39\n",
      "260  화성FC   24  정병희  174Cm  68Kg  2004/01/10   0416  20250174    K39\n",
      "261  화성FC   16  최명희  177Cm  76Kg  1990/09/04   0416  20180181    K39\n",
      "262  화성FC    6  최준혁  187Cm  88Kg  1994/09/05   0416  20180106    K39\n",
      "\n",
      "[263 rows x 9 columns]\n",
      "    소속 클럽   등번    성명      키   몸무게        생년월일 menuCd  playerId teamId\n",
      "0     NaN  NaN   NaN    NaN   NaN         NaN    NaN       NaN    NaN\n",
      "1    강원FC   10  가브리엘  187Cm  76Kg  2000/01/20   0416  20230333    K21\n",
      "2    강원FC   19   김경민  185Cm  78Kg  1997/01/22   0416  20180077    K21\n",
      "3    강원FC   27   김도현  179Cm  70Kg  2004/05/12   0416  20230203    K21\n",
      "4    강원FC   95   김형진  175Cm  72Kg  2006/11/19   0416  20240296    K21\n",
      "..    ...  ...   ...    ...   ...         ...    ...       ...    ...\n",
      "288  화성FC   11   여홍규  171Cm  65Kg  2002/05/25   0416  20240130    K39\n",
      "289  화성FC   19   유병수  182Cm  85Kg  1988/03/26   0416  20090061    K39\n",
      "290  화성FC   98   이승재  181Cm  74Kg  1998/02/06   0416  20190153    K39\n",
      "291  화성FC   77   이지한  182Cm  71Kg  2003/01/08   0416  20250180    K39\n",
      "292  화성FC   28   조웅기  182Cm  74Kg  2005/03/21   0416  20250295    K39\n",
      "\n",
      "[293 rows x 9 columns]\n"
     ]
    }
   ],
   "source": [
    "# 페이지의 HTML을 가져옵니다.\n",
    "html = driver.page_source\n",
    "\n",
    "# BeautifulSoup 객체를 생성합니다.\n",
    "soup = BeautifulSoup(html, 'html.parser')\n",
    "\n",
    "\n",
    "# 특정 form 안에 있는 모든 테이블을 찾아 데이터를 스크랩핑합니다.\n",
    "form = soup.find('form', {'id': 'frm'})\n",
    "table_data = []\n",
    "if form is not None:\n",
    "    tables = form.find_all('table')\n",
    "    for table in tables:\n",
    "        # Get column names from thead\n",
    "        column_names = [col.text for col in table.thead.find_all('th')]\n",
    "        # Get all rows in the table\n",
    "        rows = table.find_all('tr')\n",
    "        row_data = []\n",
    "        for row in rows:\n",
    "            # Get all columns in the row\n",
    "            cols = row.find_all('td')\n",
    "            # Get onclick attribute value\n",
    "            onclick = row.get('onclick')\n",
    "            # Append the onclick value to the row data if it exists\n",
    "            cols_data = dict(zip(column_names, [col.text for col in cols]))\n",
    "            if onclick is not None:\n",
    "                cols_data.update(extract_onclick_data(onclick))\n",
    "            row_data.append(cols_data)\n",
    "        table_data.append(pd.DataFrame(row_data))\n",
    "\n",
    "# 데이터를 출력합니다.\n",
    "for data in table_data:\n",
    "    print(data)\n",
    "\n",
    "# Export data to excel\n",
    "with pd.ExcelWriter('kl_data.xlsx') as writer:\n",
    "    for i, data in enumerate(table_data):\n",
    "        data.to_excel(writer, sheet_name=f'Sheet{i+1}')"
   ]
  }
 ],
 "metadata": {
  "kernelspec": {
   "display_name": "Python 3.12.1 64-bit",
   "language": "python",
   "name": "python3"
  },
  "language_info": {
   "codemirror_mode": {
    "name": "ipython",
    "version": 3
   },
   "file_extension": ".py",
   "mimetype": "text/x-python",
   "name": "python",
   "nbconvert_exporter": "python",
   "pygments_lexer": "ipython3",
   "version": "3.12.1"
  },
  "orig_nbformat": 4,
  "vscode": {
   "interpreter": {
    "hash": "3fcbd7240ee8f908d933dc7f71e8c42a1a91163b70ede8dcff5146d4087436c7"
   }
  }
 },
 "nbformat": 4,
 "nbformat_minor": 2
}
